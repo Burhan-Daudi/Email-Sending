{
 "cells": [
  {
   "cell_type": "code",
   "execution_count": 14,
   "metadata": {},
   "outputs": [
    {
     "name": "stdout",
     "output_type": "stream",
     "text": [
      "Requirement already satisfied: Email1 in c:\\users\\burhanuddin\\anaconda3\\lib\\site-packages (1.0.0)\n",
      "Requirement already satisfied: Email1 in c:\\users\\burhanuddin\\anaconda3\\lib\\site-packages (1.0.0)\n"
     ]
    }
   ],
   "source": [
    "!pip install Email1"
   ]
  },
  {
   "cell_type": "code",
   "execution_count": 32,
   "metadata": {},
   "outputs": [],
   "source": [
    "import emails"
   ]
  },
  {
   "cell_type": "code",
   "execution_count": 35,
   "metadata": {},
   "outputs": [],
   "source": [
    "def sendMail(email,name):\n",
    "    html_text='''<h3><strong><span style=\"text-shadow: rgba(84, 121, 182, 0.8) -2px 1px 0px;\">Well Come</span><span style=\"text-shadow: -2px 1px 0px rgba(135, 135, 135, 0.8);\"> </span></strong></h3>\n",
    "                <p><strong>Thanks for login and so on.....</strong></p> '''\n",
    "    subject=\"hey\"+ name +\",You have email from python script\"\n",
    "    message=emails.html(html=html_text,\n",
    "                   subject=subject,\n",
    "                   mail_from=('Burhan Daudi','abc@gmail.com'))\n",
    "    \n",
    "    mai_via_python=message.send(to='aliza70g_o516z@cikuh.com',\n",
    "                           smtp={'host':'smtp.gmail.com',\n",
    "                                'timeout':5,\n",
    "                                'port':587,\n",
    "                                'user':'YOUREMAIL@REQUIRED>COM',\n",
    "                                'password':'YourPassWordRequired',\n",
    "                                'tls':True})\n",
    "    return mai_via_python.status_code"
   ]
  },
  {
   "cell_type": "code",
   "execution_count": 36,
   "metadata": {},
   "outputs": [
    {
     "data": {
      "text/plain": [
       "250"
      ]
     },
     "execution_count": 36,
     "metadata": {},
     "output_type": "execute_result"
    }
   ],
   "source": [
    "sendMail(\"aliza70g_o516z@cikuh.com\",\"Guest\")"
   ]
  },
  {
   "cell_type": "code",
   "execution_count": null,
   "metadata": {},
   "outputs": [],
   "source": []
  }
 ],
 "metadata": {
  "kernelspec": {
   "display_name": "Python 3",
   "language": "python",
   "name": "python3"
  },
  "language_info": {
   "codemirror_mode": {
    "name": "ipython",
    "version": 3
   },
   "file_extension": ".py",
   "mimetype": "text/x-python",
   "name": "python",
   "nbconvert_exporter": "python",
   "pygments_lexer": "ipython3",
   "version": "3.8.5"
  }
 },
 "nbformat": 4,
 "nbformat_minor": 4
}
